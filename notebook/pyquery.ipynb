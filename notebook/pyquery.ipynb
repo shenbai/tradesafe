{
 "cells": [
  {
   "cell_type": "code",
   "execution_count": 74,
   "metadata": {
    "collapsed": true
   },
   "outputs": [],
   "source": [
    "import urllib\n",
    "from bs4 import BeautifulSoup"
   ]
  },
  {
   "cell_type": "code",
   "execution_count": 75,
   "metadata": {
    "collapsed": false
   },
   "outputs": [],
   "source": [
    "url='http://data.10jqka.com.cn/market/dzjy/field/enddate/order/desc/page/1/ajax/1/'\n",
    "page = urllib.urlopen(url).read()\n",
    "# BeautifulSoup在解析utf-8编码的网页时，如果不指定fromEncoding或者将fromEncoding指定为utf-8会出现中文乱码的现象。\n",
    "# 解决此问题的方法是将Beautifulsoup构造函数中的fromEncoding参数的值指定为：gb18030\n",
    "soup = BeautifulSoup(page, from_encoding='gb18030')"
   ]
  },
  {
   "cell_type": "code",
   "execution_count": 76,
   "metadata": {
    "collapsed": false
   },
   "outputs": [
    {
     "name": "stdout",
     "output_type": "stream",
     "text": [
      "###\n",
      "###\n",
      "中国国际金融股份有限公司上海分公司 \n",
      "###\n",
      "海通证券股份有限公司上海真华路证券营业部 \n",
      "###\n",
      "信达证券股份公司北京北辰东路证券营业部\n",
      "###\n",
      "方正证券股份有限公司北京和平里东街证券营业部\n",
      "###\n",
      "中国银河证券股份有限公司上海东方路证券营业部 \n",
      "###\n",
      "长江证券股份有限公司武汉巨龙大道证券营业部\n",
      "###\n",
      "东兴证券股份有限公司上海肇嘉浜路证券营业部 \n",
      "###\n",
      "中泰证券股份有限公司胶州福州南路证券营业部\n",
      "###\n",
      "长城证券股份有限公司深圳龙岗大道证券营业部\n",
      "###\n",
      "招商证券股份有限公司深圳福民路证券营业部\n",
      "###\n",
      "兴业证券股份有限公司上海民生路第二证券营业部\n",
      "###\n",
      "华创证券有限责任公司深圳香梅路证券营业部\n",
      "###\n",
      "东北证券股份有限公司深圳南山大道证券营业部\n",
      "###\n",
      "南京证券股份有限公司高淳淳溪镇宝塔路证券营业部\n",
      "###\n",
      "中国国际金融股份有限公司上海分公司 \n",
      "###\n",
      "光大证券股份有限公司北京月坛北街证券营业部\n",
      "###\n",
      "长江证券股份有限公司沈阳三好街证券营业部 \n",
      "###\n",
      "中泰证券股份有限公司枣庄府前西路证券营业部\n",
      "###\n",
      "海通证券股份有限公司哈尔滨中山路证券营业部\n",
      "###\n",
      "海通证券股份有限公司哈尔滨中山路证券营业部\n",
      "###\n",
      "海通证券股份有限公司哈尔滨中山路证券营业部\n",
      "###\n",
      "中信证券股份有限公司泉州宝洲路证券营业部\n",
      "###\n",
      "九州证券股份有限公司深圳分公司\n",
      "###\n",
      "华泰证券股份有限公司北京雍和宫证券营业部 \n",
      "###\n",
      "华林证券股份有限公司合肥潜山路证券营业部\n",
      "###\n",
      "浙商证券股份有限公司常州怀德中路证券营业部\n",
      "###\n",
      "浙商证券股份有限公司常州怀德中路证券营业部\n",
      "###\n",
      "浙商证券股份有限公司常州怀德中路证券营业部\n",
      "###\n",
      "浙商证券股份有限公司常州怀德中路证券营业部\n",
      "###\n",
      "浙商证券股份有限公司常州怀德中路证券营业部\n",
      "###\n",
      "海通证券股份有限公司上海建国西路证券营业部 \n",
      "###\n",
      "华泰证券股份有限公司上海黄浦区来福士广场证券营业部\n",
      "###\n",
      "华泰证券股份有限公司上海黄浦区来福士广场证券营业部\n",
      "###\n",
      "中国银河证券股份有限公司北京阜成路证券营业部\n",
      "###\n",
      "长江证券股份有限公司沈阳三好街证券营业部 \n",
      "###\n",
      "东海证券股份有限公司常州博爱路证券营业部 \n",
      "###\n",
      "中国银河证券股份有限公司大连延安路证券营业部 \n",
      "###\n",
      "长江证券股份有限公司上海绵绣路证券营业部 \n",
      "###\n",
      "中泰证券股份有限公司上海甘河路证券营业部\n",
      "###\n",
      "德邦证券股份有限公司上海岳州路证券营业部\n",
      "###\n",
      "光大证券股份有限公司佛山绿景路证券营业部 \n",
      "###\n",
      "海通证券股份有限公司洛阳体育场路证券营业部\n",
      "###\n",
      "中信建投证券股份有限公司安吉天荒坪路证券营业部 \n",
      "###\n",
      "东兴证券股份有限公司上海肇嘉浜路证券营业部 \n",
      "###\n",
      "中国银河证券股份有限公司上海东大名路外滩证券营业部 \n",
      "###\n",
      "光大证券股份有限公司上海世纪大道证券营业部 \n",
      "###\n",
      "中国银河证券股份有限公司包头乌兰道证券营业部\n",
      "###\n",
      "中国国际金融股份有限公司北京建国门外大街证券营业部\n",
      "###\n",
      "机构专用 \n",
      "###\n",
      "机构专用 \n"
     ]
    }
   ],
   "source": [
    "for tr in soup.select('tr'):\n",
    "    print '###'\n",
    "#     print tr\n",
    "#     for td in tr.select('td'):\n",
    "#         print '$$$$'\n",
    "    if len(tr.select('td')) > 0:\n",
    "        print tr.select('td')[8].get_text()\n",
    "#         print type(tr.select('td')[1])\n",
    "#     print type(tr.select('td'))"
   ]
  }
 ],
 "metadata": {
  "kernelspec": {
   "display_name": "Python 2",
   "language": "python",
   "name": "python2"
  },
  "language_info": {
   "codemirror_mode": {
    "name": "ipython",
    "version": 2
   },
   "file_extension": ".py",
   "mimetype": "text/x-python",
   "name": "python",
   "nbconvert_exporter": "python",
   "pygments_lexer": "ipython2",
   "version": "2.7.11"
  }
 },
 "nbformat": 4,
 "nbformat_minor": 0
}
